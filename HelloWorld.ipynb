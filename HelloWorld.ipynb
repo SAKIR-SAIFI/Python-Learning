{
 "cells": [
  {
   "cell_type": "code",
   "execution_count": 2,
   "id": "f8bcdd4a-92d8-435b-872d-364125519229",
   "metadata": {},
   "outputs": [
    {
     "name": "stdout",
     "output_type": "stream",
     "text": [
      "hello world\n"
     ]
    }
   ],
   "source": [
    "print(\"hello world\")\n",
    "# The Python code print(\"hello world\") is a simple command to display the text \"hello world\" on the screen. Here's an explanation:\n",
    "\n",
    "# print: This is a built-in Python function used to display output.\n",
    "# (\"hello world\"): The text inside the parentheses is a string. Strings in Python are enclosed in either single quotes ' ' or double quotes \" \". \n",
    "# In this case, it's \"hello world\".\n",
    "# When the code is executed, the print function outputs the string \"hello world\" to the console or terminal.\n",
    "# This code is commonly used as the first program for beginners to learn Python and test their environment setup."
   ]
  },
  {
   "cell_type": "code",
   "execution_count": 1,
   "id": "a7b90cb5-1c37-4752-8c80-c88b554c3eb9",
   "metadata": {},
   "outputs": [
    {
     "name": "stdin",
     "output_type": "stream",
     "text": [
      "Enter the name:  sakir\n"
     ]
    },
    {
     "name": "stdout",
     "output_type": "stream",
     "text": [
      "sakir\n"
     ]
    }
   ],
   "source": [
    "name1 = input(\"Enter the name: \")\n",
    "print(name1)\n",
    "# 1.) input(\"Enter the name: \"):\n",
    "# The input() function is used to take input from the user.\n",
    "# The text inside the parentheses, \"Enter the name: \", is a prompt displayed to the user to inform them about what input is expected.\n",
    "# The user types a value (e.g., their name), and this value is captured as a string.\n",
    " \n",
    "# 2.) name1 = input(...):\n",
    "# The variable name1 is used to store the value entered by the user.\n",
    "# Whatever the user types is assigned to the variable name1.\n",
    "\n",
    "# 3.) print(name1):\n",
    "# This displays the value stored in the name1 variable on the screen."
   ]
  },
  {
   "cell_type": "code",
   "execution_count": 2,
   "id": "0d6dfd08-4ac4-44ab-b973-b432575293dc",
   "metadata": {},
   "outputs": [
    {
     "name": "stdout",
     "output_type": "stream",
     "text": [
      "1\n",
      "9\n",
      "5\n",
      "2\n",
      "1.5\n",
      "1\n",
      "5 power 2 =  25\n"
     ]
    }
   ],
   "source": [
    "n1 = 5\n",
    "n2 = 2\n",
    "num1 = 3//2\n",
    "num2 = 3**2\n",
    "num3 = 3+2\n",
    "num4 = 3-1\n",
    "num5 = 3/2\n",
    "num6 = 3%2\n",
    "print(num1)\n",
    "print(num2)\n",
    "print(num3)\n",
    "print(num4)\n",
    "print(num5)\n",
    "print(num6)\n",
    "print(f\"{n1} power {n2} = \",n1**n2)\n",
    "\n",
    "# 1. n1 = 5 and n2 = 2:\n",
    "# Two variables, n1 and n2, are initialized with the values 5 and 2 respectively.\n",
    "\n",
    "# 2. num1 = 3 // 2:\n",
    "# // is the floor division operator, which divides and gives the integer result by discarding the remainder.\n",
    "# 3÷2=1.5\n",
    "# 3÷2=1.5, and the integer part is 1.\n",
    "# So, num1 = 1.\n",
    "\n",
    "# 3. num2 = 3 ** 2:\n",
    "# ** is the exponentiation operator, which raises a number to the power of another.\n",
    "# 3**2=9.\n",
    "# So, num2 = 9.\n",
    "\n",
    "# 4. num3 = 3 + 2:\n",
    "# This is a simple addition.\n",
    "# 3+2=5.\n",
    "# So, num3 = 5.\n",
    " \n",
    "# 5. num4 = 3 - 1:\n",
    "# This is a simple subtraction.\n",
    "# 3−1=2.\n",
    "# So, num4 = 2.\n",
    "\n",
    "# 6. num5 = 3 / 2:\n",
    "# / is the true division operator, which gives the result of division as a floating-point number.\n",
    "# 3÷2=1.5.\n",
    "# So, num5 = 1.5.\n",
    "\n",
    "# 7. num6 = 3 % 2:\n",
    "# % is the modulus operator, which gives the remainder when one number is divided by another.\n",
    "# 3 mod 2 = 1 (because 2 goes into 3 once, leaving a remainder of 1).\n",
    "# So, num6 = 1.\n",
    "\n",
    "# 8. Printing values:\n",
    "# The print() function is used to display the values of the variables num1, num2, num3, num4, num5, and num6.\n",
    "\n",
    "# 9. Formatted string:\n",
    "# f\"{n1} power {n2}\": This is an f-string, used to include variables (n1 and n2) inside the string."
   ]
  },
  {
   "cell_type": "code",
   "execution_count": 4,
   "id": "0799478a-2416-43fb-9138-684da7672c94",
   "metadata": {},
   "outputs": [
    {
     "name": "stdin",
     "output_type": "stream",
     "text": [
      "Enter the no. of matches won :  5\n",
      "Enter the no. of matches loss :  3\n",
      "Enter the no. of matches draw :  2\n"
     ]
    },
    {
     "name": "stdout",
     "output_type": "stream",
     "text": [
      "london score : 17\n"
     ]
    }
   ],
   "source": [
    "win = 3\n",
    "loss = 0\n",
    "draw = 1\n",
    "match_won = int(input(\"Enter the no. of matches won : \"))\n",
    "match_loss = int(input(\"Enter the no. of matches loss : \"))\n",
    "match_draw = int(input(\"Enter the no. of matches draw : \"))\n",
    "score = (match_won*win) + (match_loss*loss) + (match_draw*draw)\n",
    "print(f\"london score : {score}\")\n",
    "\n",
    "# 1. Variables for scoring system:\n",
    "# win = 3: Each match won gives 3 points.\n",
    "# loss = 0: Each match lost gives 0 points.\n",
    "# draw = 1: Each drawn match gives 1 point.\n",
    "\n",
    "# 2. User inputs for matches:\n",
    "# The program uses input() to ask the user for the number of matches:\n",
    "\n",
    "# match_won: Number of matches won (entered by the user).\n",
    "# match_loss: Number of matches lost (entered by the user).\n",
    "# match_draw: Number of matches drawn (entered by the user).\n",
    "# int(input(...)): The input is converted to an integer because input() returns strings by default.\n",
    "\n",
    "# 3. Calculate the score:The formula: \n",
    "# The formula: score = (match_won * win) + (match_loss * loss) + (match_draw * draw)\n",
    "# match_won * win: The points from matches won.\n",
    "# match_loss * loss: The points from matches lost (this will always be 0 because loss = 0).\n",
    "# match_draw * draw: The points from matches drawn.\n",
    "# All these are added together to calculate the total score.\n",
    "\n",
    "# 4. Print the score:\n",
    "# The program uses an f-string to display the total score:\n",
    "# print(f\"london score : {score}\")\n",
    "# The score variable is embedded in the string.\n"
   ]
  },
  {
   "cell_type": "code",
   "execution_count": 5,
   "id": "e7ab5c5b-ab51-4ab4-9ced-5db404f5235e",
   "metadata": {},
   "outputs": [
    {
     "name": "stdout",
     "output_type": "stream",
     "text": [
      "___percentage of ingredients used___\n",
      "percentage of raisins:38.46\n",
      "percentage of almonds:46.15\n",
      "percentage of apricots:15.38\n"
     ]
    }
   ],
   "source": [
    "raisins = 50\n",
    "almonds = 60\n",
    "apricots = 20\n",
    "\n",
    "per_raisins = (raisins/(raisins+almonds+apricots)) * 100\n",
    "per_almonds = (almonds/(raisins+almonds+apricots)) * 100\n",
    "per_apricots = (apricots/(raisins+almonds+apricots)) * 100\n",
    "\n",
    "print(\"___percentage of ingredients used___\")\n",
    "print(f\"percentage of raisins:{per_raisins:0,.2f}\")\n",
    "print(f\"percentage of almonds:{per_almonds:0,.2f}\")\n",
    "print(f\"percentage of apricots:{per_apricots:0,.2f}\")\n",
    "\n",
    "# 1. Initial Values:\n",
    "# raisins = 50: There are 50 units of raisins.\n",
    "# almonds = 60: There are 60 units of almonds.\n",
    "# apricots = 20: There are 20 units of apricots.\n",
    "\n",
    "# 2. Total Ingredients:\n",
    "# The total number of ingredients is calculated as:\n",
    "# total = raisins + almonds + apricots\n",
    "#       = 50 + 60 + 20\n",
    "#       = 130\n",
    "\n",
    "# 3. Percentage Calculation:\n",
    "# To find the percentage of each ingredient, the formula used is:\n",
    "# percentage = (quantity of ingredient / total) * 100\n",
    "# Percentage of Raisins: per_raisins = (50 / 130) * 100 ≈ 38.46\n",
    "# Percentage of Almonds: per_almonds = (60 / 130) * 100 ≈ 46.15\n",
    "# Percentage of Apricots: per_apricots = (20 / 130) * 100 ≈ 15.38\n",
    "\n",
    "# 4. Output Formatting:\n",
    "# The print() statements use an f-string for formatting the output.\n",
    "# {per_raisins:0,.2f} formats the percentage with:\n",
    "# 0,: Adds commas as thousand separators if needed (not applicable here).\n",
    "# .2f: Limits the result to 2 decimal places.\n",
    "\n",
    "# 5. Printed Output:\n",
    "# The program displays the percentages of raisins, almonds, and apricots clearly."
   ]
  },
  {
   "cell_type": "code",
   "execution_count": 6,
   "id": "af9fb056-de60-4688-9cd1-54252104c960",
   "metadata": {},
   "outputs": [
    {
     "name": "stdout",
     "output_type": "stream",
     "text": [
      "old lion population: 10\n"
     ]
    },
    {
     "name": "stdin",
     "output_type": "stream",
     "text": [
      "Enter the new lion cubs added:  4\n"
     ]
    },
    {
     "name": "stdout",
     "output_type": "stream",
     "text": [
      "updated population: 14\n"
     ]
    }
   ],
   "source": [
    "lion_population = 10\n",
    "print(f\"old lion population: {lion_population}\")\n",
    "new_cubs = int(input(\"Enter the new lion cubs added: \"))\n",
    "lion_population = lion_population + new_cubs\n",
    "print(f\"updated population: {lion_population}\")"
   ]
  },
  {
   "cell_type": "code",
   "execution_count": 7,
   "id": "f0839a6d-4d9a-40b8-91fd-0c3011896d6a",
   "metadata": {},
   "outputs": [
    {
     "name": "stdout",
     "output_type": "stream",
     "text": [
      "temperature: 25.5\n",
      "after heatwave...\n"
     ]
    },
    {
     "name": "stdin",
     "output_type": "stream",
     "text": [
      "enter the increase in temperature:  5\n"
     ]
    },
    {
     "name": "stdout",
     "output_type": "stream",
     "text": [
      "increased temperature:30.5°C \n"
     ]
    }
   ],
   "source": [
    "temp = 25.5\n",
    "print(f\"temperature: {temp}\")\n",
    "print(\"after heatwave...\")\n",
    "increased_temp = float(input(\"enter the increase in temperature: \"))\n",
    "print(f\"increased temperature:{(temp+increased_temp)}°C \")"
   ]
  },
  {
   "cell_type": "code",
   "execution_count": 8,
   "id": "0ad90765-2eb0-43e2-930a-b44f5402f265",
   "metadata": {},
   "outputs": [
    {
     "name": "stdout",
     "output_type": "stream",
     "text": [
      "after a week plant height...\n",
      "plant height: 32.5\n"
     ]
    }
   ],
   "source": [
    "initial_height = 15\n",
    "one_day_growth = 2.5\n",
    "print(\"after a week plant height...\")\n",
    "print(f\"plant height: {initial_height+(one_day_growth*7)}\")"
   ]
  },
  {
   "cell_type": "code",
   "execution_count": 9,
   "id": "b5c4bc0b-e666-4ddd-a963-6e66fc0df978",
   "metadata": {},
   "outputs": [
    {
     "name": "stdout",
     "output_type": "stream",
     "text": [
      "initial velcity: 3000\n",
      "accelaeration: 500\n",
      "velocity after time : 10 seconds\n",
      "final velcity: 8000\n"
     ]
    }
   ],
   "source": [
    "#v = u + at\n",
    "u = 3000\n",
    "a = 500\n",
    "t = 10\n",
    "\n",
    "v = u + a*t\n",
    "print(f\"initial velcity: {u}\")\n",
    "print(f\"accelaeration: {a}\")\n",
    "print(f\"velocity after time : {t} seconds\")\n",
    "print(f\"final velcity: {v}\")"
   ]
  },
  {
   "cell_type": "code",
   "execution_count": 10,
   "id": "60a41361-b647-4932-bc1d-a9710a12a314",
   "metadata": {},
   "outputs": [
    {
     "name": "stdin",
     "output_type": "stream",
     "text": [
      "Enter the number a:  4\n",
      "Enter the number b:  6\n"
     ]
    },
    {
     "name": "stdout",
     "output_type": "stream",
     "text": [
      "sum: 10\n",
      "differnece: -2\n",
      "product: 24\n",
      "Quotient: 0.6666666666666666\n"
     ]
    }
   ],
   "source": [
    "a = int(input(\"Enter the number a: \"))\n",
    "b = int(input(\"Enter the number b: \"))\n",
    "sum = a+b\n",
    "difference = a-b\n",
    "product = a*b\n",
    "que = a/b\n",
    "print(f\"sum: {sum}\")\n",
    "print(f\"differnece: {difference}\")\n",
    "print(f\"product: {product}\")\n",
    "print(f\"Quotient: {que}\")"
   ]
  },
  {
   "cell_type": "code",
   "execution_count": 11,
   "id": "51ce5864-b6e8-409c-aac9-a4e04c43450a",
   "metadata": {},
   "outputs": [
    {
     "name": "stdout",
     "output_type": "stream",
     "text": [
      "False\n"
     ]
    }
   ],
   "source": [
    "a =12\n",
    "b = 24\n",
    "\n",
    "print(a>b)"
   ]
  },
  {
   "cell_type": "code",
   "execution_count": 12,
   "id": "5c7aa625-fdb0-4ef5-994f-fd1a6a7e23b9",
   "metadata": {},
   "outputs": [
    {
     "name": "stdin",
     "output_type": "stream",
     "text": [
      "Enter the number:  4\n"
     ]
    },
    {
     "name": "stdout",
     "output_type": "stream",
     "text": [
      "4 is even\n"
     ]
    }
   ],
   "source": [
    "x = int(input(\"Enter the number: \"))\n",
    "if x%2 == 0:\n",
    "    print(f\"{x} is even\")\n",
    "else:\n",
    "    print(f\"{x} is odd\")"
   ]
  },
  {
   "cell_type": "code",
   "execution_count": 13,
   "id": "814e7ed8-6833-41a7-a073-829d099c85de",
   "metadata": {},
   "outputs": [
    {
     "name": "stdout",
     "output_type": "stream",
     "text": [
      "False\n",
      "True\n",
      "False\n"
     ]
    }
   ],
   "source": [
    "p = True\n",
    "q = False\n",
    "print(p and q)\n",
    "print(p or q)\n",
    "print(not p)"
   ]
  },
  {
   "cell_type": "code",
   "execution_count": 14,
   "id": "f071e60a-6329-4b8e-9d70-d0d1a73d1e1d",
   "metadata": {},
   "outputs": [
    {
     "name": "stdout",
     "output_type": "stream",
     "text": [
      "0\n",
      "7\n",
      "7\n",
      "-6\n",
      "20\n",
      "1\n"
     ]
    }
   ],
   "source": [
    "n = 5\n",
    "m = 2\n",
    "\n",
    "print(n & m)\n",
    "print(n | m)\n",
    "print(n ^ m)\n",
    "print(~n)\n",
    "print(n << 2)\n",
    "print(n >> 2)"
   ]
  },
  {
   "cell_type": "code",
   "execution_count": 15,
   "id": "2d8f0ea3-57f0-43c3-86de-3efff0c272dc",
   "metadata": {},
   "outputs": [
    {
     "name": "stdout",
     "output_type": "stream",
     "text": [
      "hello world\n"
     ]
    }
   ],
   "source": [
    "str1 = \"hello \"\n",
    "str2 = \"world\"\n",
    "print(str1 +str2)"
   ]
  },
  {
   "cell_type": "code",
   "execution_count": 16,
   "id": "aa3de4e6-35c3-4039-b30d-aca50c0bf493",
   "metadata": {},
   "outputs": [
    {
     "name": "stdout",
     "output_type": "stream",
     "text": [
      "2.0\n"
     ]
    }
   ],
   "source": [
    "a = 5.5\n",
    "a //= 2\n",
    "print(a)"
   ]
  },
  {
   "cell_type": "code",
   "execution_count": 17,
   "id": "17d328c4-0821-49e2-9521-fac588daa0a0",
   "metadata": {},
   "outputs": [
    {
     "name": "stdout",
     "output_type": "stream",
     "text": [
      "yes\n"
     ]
    }
   ],
   "source": [
    "list1 = [1,2,3,4,5]\n",
    "val = 3\n",
    "if val in list1:\n",
    "    print(\"yes\")"
   ]
  },
  {
   "cell_type": "code",
   "execution_count": 18,
   "id": "c2add4c8-0f8a-448a-ad0e-f93fb740a3e5",
   "metadata": {},
   "outputs": [
    {
     "name": "stdin",
     "output_type": "stream",
     "text": [
      "enter the number a:  5\n",
      "enter the number b:  1\n"
     ]
    },
    {
     "name": "stdout",
     "output_type": "stream",
     "text": [
      "press 1 for addition, 2 \n"
     ]
    },
    {
     "name": "stdin",
     "output_type": "stream",
     "text": [
      "Select the options from the above to perform an action:  1\n"
     ]
    }
   ],
   "source": [
    "a = int(input(\"enter the number a: \"))\n",
    "b = int(input(\"enter the number b: \"))\n",
    "print(\"press 1 for addition, 2 \")\n",
    "choice = int(input(\"Select the options from the above to perform an action: \"))\n"
   ]
  },
  {
   "cell_type": "code",
   "execution_count": null,
   "id": "9cb59290-80c7-4ec4-adc4-4fbd422db79a",
   "metadata": {},
   "outputs": [],
   "source": []
  }
 ],
 "metadata": {
  "kernelspec": {
   "display_name": "Python 3 (ipykernel)",
   "language": "python",
   "name": "python3"
  },
  "language_info": {
   "codemirror_mode": {
    "name": "ipython",
    "version": 3
   },
   "file_extension": ".py",
   "mimetype": "text/x-python",
   "name": "python",
   "nbconvert_exporter": "python",
   "pygments_lexer": "ipython3",
   "version": "3.12.1"
  }
 },
 "nbformat": 4,
 "nbformat_minor": 5
}
