{
 "cells": [
  {
   "cell_type": "code",
   "execution_count": 2,
   "id": "f8bcdd4a-92d8-435b-872d-364125519229",
   "metadata": {},
   "outputs": [
    {
     "name": "stdout",
     "output_type": "stream",
     "text": [
      "hello world\n"
     ]
    }
   ],
   "source": [
    "print(\"hello world\")\n",
    "# The Python code print(\"hello world\") is a simple command to display the text \"hello world\" on the screen. Here's an explanation:\n",
    "\n",
    "# print: This is a built-in Python function used to display output.\n",
    "# (\"hello world\"): The text inside the parentheses is a string. Strings in Python are enclosed in either single quotes ' ' or double quotes \" \". \n",
    "# In this case, it's \"hello world\".\n",
    "# When the code is executed, the print function outputs the string \"hello world\" to the console or terminal.\n",
    "# This code is commonly used as the first program for beginners to learn Python and test their environment setup."
   ]
  },
  {
   "cell_type": "code",
   "execution_count": 1,
   "id": "a7b90cb5-1c37-4752-8c80-c88b554c3eb9",
   "metadata": {},
   "outputs": [
    {
     "name": "stdin",
     "output_type": "stream",
     "text": [
      "Enter the name:  sakir\n"
     ]
    },
    {
     "name": "stdout",
     "output_type": "stream",
     "text": [
      "sakir\n"
     ]
    }
   ],
   "source": [
    "name1 = input(\"Enter the name: \")\n",
    "print(name1)\n",
    "# 1.) input(\"Enter the name: \"):\n",
    "# The input() function is used to take input from the user.\n",
    "# The text inside the parentheses, \"Enter the name: \", is a prompt displayed to the user to inform them about what input is expected.\n",
    "# The user types a value (e.g., their name), and this value is captured as a string.\n",
    " \n",
    "# 2.) name1 = input(...):\n",
    "# The variable name1 is used to store the value entered by the user.\n",
    "# Whatever the user types is assigned to the variable name1.\n",
    "\n",
    "# 3.) print(name1):\n",
    "# This displays the value stored in the name1 variable on the screen."
   ]
  },
  {
   "cell_type": "code",
   "execution_count": null,
   "id": "0d6dfd08-4ac4-44ab-b973-b432575293dc",
   "metadata": {},
   "outputs": [],
   "source": [
    "n1 = 5\n",
    "n2 = 2\n",
    "num1 = 3//2\n",
    "num2 = 3**2\n",
    "num3 = 3+2\n",
    "num4 = 3-1\n",
    "num5 = 3/2\n",
    "num6 = 3%2\n",
    "print(num1)\n",
    "print(num2)\n",
    "print(num3)\n",
    "print(num4)\n",
    "print(num5)\n",
    "print(num6)\n",
    "print(f\"{n1} power {n2} = \",n1**n2)\n",
    "\n",
    "# 1. n1 = 5 and n2 = 2:\n",
    "# Two variables, n1 and n2, are initialized with the values 5 and 2 respectively.\n",
    "\n",
    "# 2. num1 = 3 // 2:\n",
    "# // is the floor division operator, which divides and gives the integer result by discarding the remainder.\n",
    "# 3÷2=1.5\n",
    "# 3÷2=1.5, and the integer part is 1.\n",
    "# So, num1 = 1.\n",
    "\n",
    "# 3. num2 = 3 ** 2:\n",
    "# ** is the exponentiation operator, which raises a number to the power of another.\n",
    "# 3**2=9.\n",
    "# So, num2 = 9.\n",
    "\n",
    "# 4. num3 = 3 + 2:\n",
    "# This is a simple addition.\n",
    "# 3+2=5.\n",
    "# So, num3 = 5.\n",
    " \n",
    "# 5. num4 = 3 - 1:\n",
    "# This is a simple subtraction.\n",
    "# 3−1=2.\n",
    "# So, num4 = 2.\n",
    "\n",
    "# 6. num5 = 3 / 2:\n",
    "# / is the true division operator, which gives the result of division as a floating-point number.\n",
    "# 3÷2=1.5.\n",
    "# So, num5 = 1.5.\n",
    "\n",
    "# 7. num6 = 3 % 2:\n",
    "# % is the modulus operator, which gives the remainder when one number is divided by another.\n",
    "# 3 mod 2 = 1 (because 2 goes into 3 once, leaving a remainder of 1).\n",
    "# So, num6 = 1.\n",
    "\n",
    "# 8. Printing values:\n",
    "# The print() function is used to display the values of the variables num1, num2, num3, num4, num5, and num6.\n",
    "\n",
    "# 9. Formatted string:\n",
    "# f\"{n1} power {n2}\": This is an f-string, used to include variables (n1 and n2) inside the string."
   ]
  }
 ],
 "metadata": {
  "kernelspec": {
   "display_name": "Python 3 (ipykernel)",
   "language": "python",
   "name": "python3"
  },
  "language_info": {
   "codemirror_mode": {
    "name": "ipython",
    "version": 3
   },
   "file_extension": ".py",
   "mimetype": "text/x-python",
   "name": "python",
   "nbconvert_exporter": "python",
   "pygments_lexer": "ipython3",
   "version": "3.12.1"
  }
 },
 "nbformat": 4,
 "nbformat_minor": 5
}
